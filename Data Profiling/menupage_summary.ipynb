{
 "cells": [
  {
   "cell_type": "code",
   "execution_count": 1,
   "id": "initial_id",
   "metadata": {
    "ExecuteTime": {
     "end_time": "2024-06-20T09:04:47.427568Z",
     "start_time": "2024-06-20T09:04:47.424248Z"
    }
   },
   "outputs": [],
   "source": [
    "import pandas as pd\n",
    "import matplotlib.pyplot as plt"
   ]
  },
  {
   "cell_type": "code",
   "execution_count": 2,
   "id": "508fad5b1b49b6b5",
   "metadata": {
    "ExecuteTime": {
     "end_time": "2024-06-20T09:04:47.450544Z",
     "start_time": "2024-06-20T09:04:47.429413Z"
    },
    "collapsed": false,
    "jupyter": {
     "outputs_hidden": false
    }
   },
   "outputs": [],
   "source": [
    "df = pd.read_feather(\"../Data Files/MenuPage.feather\")"
   ]
  },
  {
   "cell_type": "code",
   "execution_count": 3,
   "id": "ab698fecb84fbfc7",
   "metadata": {
    "ExecuteTime": {
     "end_time": "2024-06-20T09:04:47.455170Z",
     "start_time": "2024-06-20T09:04:47.451320Z"
    },
    "collapsed": false,
    "jupyter": {
     "outputs_hidden": false
    }
   },
   "outputs": [
    {
     "data": {
      "text/plain": [
       "(66937, 7)"
      ]
     },
     "execution_count": 3,
     "metadata": {},
     "output_type": "execute_result"
    }
   ],
   "source": [
    "df.shape"
   ]
  },
  {
   "cell_type": "code",
   "execution_count": 4,
   "id": "77f4bd23879e9380",
   "metadata": {
    "ExecuteTime": {
     "end_time": "2024-06-20T09:04:47.462749Z",
     "start_time": "2024-06-20T09:04:47.456618Z"
    },
    "collapsed": false,
    "jupyter": {
     "outputs_hidden": false
    }
   },
   "outputs": [
    {
     "data": {
      "text/plain": [
       "id               int64\n",
       "menu_id          int64\n",
       "page_number    float64\n",
       "image_id        object\n",
       "full_height    float64\n",
       "full_width     float64\n",
       "uuid            object\n",
       "dtype: object"
      ]
     },
     "execution_count": 4,
     "metadata": {},
     "output_type": "execute_result"
    }
   ],
   "source": [
    "df.dtypes"
   ]
  },
  {
   "cell_type": "code",
   "execution_count": 5,
   "id": "bfb8f397174d513",
   "metadata": {
    "ExecuteTime": {
     "end_time": "2024-06-20T09:04:47.469409Z",
     "start_time": "2024-06-20T09:04:47.463775Z"
    },
    "collapsed": false,
    "jupyter": {
     "outputs_hidden": false
    }
   },
   "outputs": [
    {
     "data": {
      "text/html": [
       "<div>\n",
       "<style scoped>\n",
       "    .dataframe tbody tr th:only-of-type {\n",
       "        vertical-align: middle;\n",
       "    }\n",
       "\n",
       "    .dataframe tbody tr th {\n",
       "        vertical-align: top;\n",
       "    }\n",
       "\n",
       "    .dataframe thead th {\n",
       "        text-align: right;\n",
       "    }\n",
       "</style>\n",
       "<table border=\"1\" class=\"dataframe\">\n",
       "  <thead>\n",
       "    <tr style=\"text-align: right;\">\n",
       "      <th></th>\n",
       "      <th>id</th>\n",
       "      <th>menu_id</th>\n",
       "      <th>page_number</th>\n",
       "      <th>image_id</th>\n",
       "      <th>full_height</th>\n",
       "      <th>full_width</th>\n",
       "      <th>uuid</th>\n",
       "    </tr>\n",
       "  </thead>\n",
       "  <tbody>\n",
       "    <tr>\n",
       "      <th>0</th>\n",
       "      <td>119</td>\n",
       "      <td>12460</td>\n",
       "      <td>1.0</td>\n",
       "      <td>1603595</td>\n",
       "      <td>7230.0</td>\n",
       "      <td>5428.0</td>\n",
       "      <td>510d47e4-2955-a3d9-e040-e00a18064a99</td>\n",
       "    </tr>\n",
       "    <tr>\n",
       "      <th>1</th>\n",
       "      <td>120</td>\n",
       "      <td>12460</td>\n",
       "      <td>2.0</td>\n",
       "      <td>1603596</td>\n",
       "      <td>5428.0</td>\n",
       "      <td>7230.0</td>\n",
       "      <td>510d47e4-2956-a3d9-e040-e00a18064a99</td>\n",
       "    </tr>\n",
       "    <tr>\n",
       "      <th>2</th>\n",
       "      <td>121</td>\n",
       "      <td>12460</td>\n",
       "      <td>3.0</td>\n",
       "      <td>1603597</td>\n",
       "      <td>7230.0</td>\n",
       "      <td>5428.0</td>\n",
       "      <td>510d47e4-2957-a3d9-e040-e00a18064a99</td>\n",
       "    </tr>\n",
       "    <tr>\n",
       "      <th>3</th>\n",
       "      <td>122</td>\n",
       "      <td>12460</td>\n",
       "      <td>4.0</td>\n",
       "      <td>1603598</td>\n",
       "      <td>7230.0</td>\n",
       "      <td>5428.0</td>\n",
       "      <td>510d47e4-2958-a3d9-e040-e00a18064a99</td>\n",
       "    </tr>\n",
       "    <tr>\n",
       "      <th>4</th>\n",
       "      <td>123</td>\n",
       "      <td>12461</td>\n",
       "      <td>1.0</td>\n",
       "      <td>1603591</td>\n",
       "      <td>7230.0</td>\n",
       "      <td>5428.0</td>\n",
       "      <td>510d47e4-2959-a3d9-e040-e00a18064a99</td>\n",
       "    </tr>\n",
       "  </tbody>\n",
       "</table>\n",
       "</div>"
      ],
      "text/plain": [
       "    id  menu_id  page_number image_id  full_height  full_width  \\\n",
       "0  119    12460          1.0  1603595       7230.0      5428.0   \n",
       "1  120    12460          2.0  1603596       5428.0      7230.0   \n",
       "2  121    12460          3.0  1603597       7230.0      5428.0   \n",
       "3  122    12460          4.0  1603598       7230.0      5428.0   \n",
       "4  123    12461          1.0  1603591       7230.0      5428.0   \n",
       "\n",
       "                                   uuid  \n",
       "0  510d47e4-2955-a3d9-e040-e00a18064a99  \n",
       "1  510d47e4-2956-a3d9-e040-e00a18064a99  \n",
       "2  510d47e4-2957-a3d9-e040-e00a18064a99  \n",
       "3  510d47e4-2958-a3d9-e040-e00a18064a99  \n",
       "4  510d47e4-2959-a3d9-e040-e00a18064a99  "
      ]
     },
     "execution_count": 5,
     "metadata": {},
     "output_type": "execute_result"
    }
   ],
   "source": [
    "df.head(5)"
   ]
  },
  {
   "cell_type": "code",
   "execution_count": 6,
   "id": "28c695fc3cc57987",
   "metadata": {
    "ExecuteTime": {
     "end_time": "2024-06-20T09:04:47.519684Z",
     "start_time": "2024-06-20T09:04:47.470180Z"
    },
    "collapsed": false,
    "jupyter": {
     "outputs_hidden": false
    }
   },
   "outputs": [
    {
     "data": {
      "text/html": [
       "<div>\n",
       "<style scoped>\n",
       "    .dataframe tbody tr th:only-of-type {\n",
       "        vertical-align: middle;\n",
       "    }\n",
       "\n",
       "    .dataframe tbody tr th {\n",
       "        vertical-align: top;\n",
       "    }\n",
       "\n",
       "    .dataframe thead th {\n",
       "        text-align: right;\n",
       "    }\n",
       "</style>\n",
       "<table border=\"1\" class=\"dataframe\">\n",
       "  <thead>\n",
       "    <tr style=\"text-align: right;\">\n",
       "      <th></th>\n",
       "      <th>id</th>\n",
       "      <th>menu_id</th>\n",
       "      <th>page_number</th>\n",
       "      <th>image_id</th>\n",
       "      <th>full_height</th>\n",
       "      <th>full_width</th>\n",
       "      <th>uuid</th>\n",
       "    </tr>\n",
       "  </thead>\n",
       "  <tbody>\n",
       "    <tr>\n",
       "      <th>count</th>\n",
       "      <td>66937.000000</td>\n",
       "      <td>66937.000000</td>\n",
       "      <td>65735.000000</td>\n",
       "      <td>66937</td>\n",
       "      <td>66608.000000</td>\n",
       "      <td>66608.000000</td>\n",
       "      <td>66937</td>\n",
       "    </tr>\n",
       "    <tr>\n",
       "      <th>unique</th>\n",
       "      <td>NaN</td>\n",
       "      <td>NaN</td>\n",
       "      <td>NaN</td>\n",
       "      <td>63244</td>\n",
       "      <td>NaN</td>\n",
       "      <td>NaN</td>\n",
       "      <td>63041</td>\n",
       "    </tr>\n",
       "    <tr>\n",
       "      <th>top</th>\n",
       "      <td>NaN</td>\n",
       "      <td>NaN</td>\n",
       "      <td>NaN</td>\n",
       "      <td>4000011684</td>\n",
       "      <td>NaN</td>\n",
       "      <td>NaN</td>\n",
       "      <td>d8ba80a0-ef9e-012f-faee-58d385a7b928</td>\n",
       "    </tr>\n",
       "    <tr>\n",
       "      <th>freq</th>\n",
       "      <td>NaN</td>\n",
       "      <td>NaN</td>\n",
       "      <td>NaN</td>\n",
       "      <td>5</td>\n",
       "      <td>NaN</td>\n",
       "      <td>NaN</td>\n",
       "      <td>24</td>\n",
       "    </tr>\n",
       "    <tr>\n",
       "      <th>mean</th>\n",
       "      <td>42719.760596</td>\n",
       "      <td>25653.580904</td>\n",
       "      <td>3.759169</td>\n",
       "      <td>NaN</td>\n",
       "      <td>3859.102856</td>\n",
       "      <td>2778.588398</td>\n",
       "      <td>NaN</td>\n",
       "    </tr>\n",
       "    <tr>\n",
       "      <th>std</th>\n",
       "      <td>21273.997831</td>\n",
       "      <td>6158.827683</td>\n",
       "      <td>4.909050</td>\n",
       "      <td>NaN</td>\n",
       "      <td>1156.010307</td>\n",
       "      <td>970.287300</td>\n",
       "      <td>NaN</td>\n",
       "    </tr>\n",
       "    <tr>\n",
       "      <th>min</th>\n",
       "      <td>119.000000</td>\n",
       "      <td>12460.000000</td>\n",
       "      <td>1.000000</td>\n",
       "      <td>NaN</td>\n",
       "      <td>616.000000</td>\n",
       "      <td>558.000000</td>\n",
       "      <td>NaN</td>\n",
       "    </tr>\n",
       "    <tr>\n",
       "      <th>25%</th>\n",
       "      <td>27108.000000</td>\n",
       "      <td>21743.000000</td>\n",
       "      <td>1.000000</td>\n",
       "      <td>NaN</td>\n",
       "      <td>2988.000000</td>\n",
       "      <td>2120.000000</td>\n",
       "      <td>NaN</td>\n",
       "    </tr>\n",
       "    <tr>\n",
       "      <th>50%</th>\n",
       "      <td>43894.000000</td>\n",
       "      <td>26202.000000</td>\n",
       "      <td>2.000000</td>\n",
       "      <td>NaN</td>\n",
       "      <td>3630.000000</td>\n",
       "      <td>2527.000000</td>\n",
       "      <td>NaN</td>\n",
       "    </tr>\n",
       "    <tr>\n",
       "      <th>75%</th>\n",
       "      <td>60696.000000</td>\n",
       "      <td>30531.000000</td>\n",
       "      <td>4.000000</td>\n",
       "      <td>NaN</td>\n",
       "      <td>4617.250000</td>\n",
       "      <td>3295.250000</td>\n",
       "      <td>NaN</td>\n",
       "    </tr>\n",
       "    <tr>\n",
       "      <th>max</th>\n",
       "      <td>77431.000000</td>\n",
       "      <td>35526.000000</td>\n",
       "      <td>74.000000</td>\n",
       "      <td>NaN</td>\n",
       "      <td>12044.000000</td>\n",
       "      <td>9175.000000</td>\n",
       "      <td>NaN</td>\n",
       "    </tr>\n",
       "  </tbody>\n",
       "</table>\n",
       "</div>"
      ],
      "text/plain": [
       "                  id       menu_id   page_number    image_id   full_height  \\\n",
       "count   66937.000000  66937.000000  65735.000000       66937  66608.000000   \n",
       "unique           NaN           NaN           NaN       63244           NaN   \n",
       "top              NaN           NaN           NaN  4000011684           NaN   \n",
       "freq             NaN           NaN           NaN           5           NaN   \n",
       "mean    42719.760596  25653.580904      3.759169         NaN   3859.102856   \n",
       "std     21273.997831   6158.827683      4.909050         NaN   1156.010307   \n",
       "min       119.000000  12460.000000      1.000000         NaN    616.000000   \n",
       "25%     27108.000000  21743.000000      1.000000         NaN   2988.000000   \n",
       "50%     43894.000000  26202.000000      2.000000         NaN   3630.000000   \n",
       "75%     60696.000000  30531.000000      4.000000         NaN   4617.250000   \n",
       "max     77431.000000  35526.000000     74.000000         NaN  12044.000000   \n",
       "\n",
       "          full_width                                  uuid  \n",
       "count   66608.000000                                 66937  \n",
       "unique           NaN                                 63041  \n",
       "top              NaN  d8ba80a0-ef9e-012f-faee-58d385a7b928  \n",
       "freq             NaN                                    24  \n",
       "mean     2778.588398                                   NaN  \n",
       "std       970.287300                                   NaN  \n",
       "min       558.000000                                   NaN  \n",
       "25%      2120.000000                                   NaN  \n",
       "50%      2527.000000                                   NaN  \n",
       "75%      3295.250000                                   NaN  \n",
       "max      9175.000000                                   NaN  "
      ]
     },
     "execution_count": 6,
     "metadata": {},
     "output_type": "execute_result"
    }
   ],
   "source": [
    "df.describe(include=\"all\")"
   ]
  },
  {
   "cell_type": "markdown",
   "id": "8a54c38a-9268-4138-afe9-7c349264ac6a",
   "metadata": {},
   "source": [
    "## Missing Values - Section 4.1\n",
    "\n",
    "* `page_number` has a 1.79% of missing data\n",
    "* `full_height` and `full_width` have 0.49% missing data"
   ]
  },
  {
   "cell_type": "code",
   "execution_count": 7,
   "id": "548425cd87b21a64",
   "metadata": {
    "ExecuteTime": {
     "end_time": "2024-06-20T09:04:47.526834Z",
     "start_time": "2024-06-20T09:04:47.520446Z"
    },
    "collapsed": false,
    "jupyter": {
     "outputs_hidden": false
    }
   },
   "outputs": [
    {
     "data": {
      "text/plain": [
       "id             0.000000\n",
       "menu_id        0.000000\n",
       "page_number    1.795718\n",
       "image_id       0.000000\n",
       "full_height    0.491507\n",
       "full_width     0.491507\n",
       "uuid           0.000000\n",
       "Name: Percentage of Missing Values, dtype: float64"
      ]
     },
     "execution_count": 7,
     "metadata": {},
     "output_type": "execute_result"
    }
   ],
   "source": [
    "missing_percentage = (df.isnull().sum() / len(df)) * 100\n",
    "missing_percentage.name = 'Percentage of Missing Values'\n",
    "missing_percentage"
   ]
  },
  {
   "cell_type": "code",
   "execution_count": 8,
   "id": "77bcfe4c0966d563",
   "metadata": {
    "ExecuteTime": {
     "end_time": "2024-06-20T09:04:47.629350Z",
     "start_time": "2024-06-20T09:04:47.527602Z"
    },
    "collapsed": false,
    "jupyter": {
     "outputs_hidden": false
    }
   },
   "outputs": [
    {
     "data": {
      "image/png": "[encoded data removed]",
      "text/plain": [
       "<Figure size 1000x600 with 1 Axes>"
      ]
     },
     "metadata": {},
     "output_type": "display_data"
    }
   ],
   "source": [
    "non_missing_percentage = 100 - missing_percentage\n",
    "missing_data_percentage = pd.DataFrame({'Missing': missing_percentage, 'Non-Missing': non_missing_percentage})\n",
    "missing_data_percentage.plot(kind='bar', stacked=True, figsize=(10, 6))\n",
    "plt.title('Missing vs. Non-Missing Values (Percentage)')\n",
    "plt.xlabel('Columns')\n",
    "plt.ylabel('Percentage')\n",
    "plt.xticks(rotation=45)\n",
    "plt.show()"
   ]
  },
  {
   "cell_type": "code",
   "execution_count": 11,
   "id": "133667c4d1d0055c",
   "metadata": {
    "ExecuteTime": {
     "end_time": "2024-06-20T09:04:47.631720Z",
     "start_time": "2024-06-20T09:04:47.630125Z"
    },
    "collapsed": false,
    "jupyter": {
     "outputs_hidden": false
    }
   },
   "outputs": [],
   "source": []
  }
 ],
 "metadata": {
  "kernelspec": {
   "display_name": "Python 3 (ipykernel)",
   "language": "python",
   "name": "python3"
  },
  "language_info": {
   "codemirror_mode": {
    "name": "ipython",
    "version": 3
   },
   "file_extension": ".py",
   "mimetype": "text/x-python",
   "name": "python",
   "nbconvert_exporter": "python",
   "pygments_lexer": "ipython3",
   "version": "3.12.4"
  }
 },
 "nbformat": 4,
 "nbformat_minor": 5
}
