{
 "cells": [
  {
   "cell_type": "markdown",
   "id": "3068d8a1-8790-4be7-bf56-f80a3d500b7b",
   "metadata": {},
   "source": [
    "# MenuItem Table"
   ]
  },
  {
   "cell_type": "code",
   "execution_count": 1,
   "id": "initial_id",
   "metadata": {
    "ExecuteTime": {
     "end_time": "2024-06-11T00:44:29.239222Z",
     "start_time": "2024-06-11T00:44:29.233936Z"
    }
   },
   "outputs": [],
   "source": [
    "import pandas as pd\n",
    "import matplotlib.pyplot as plt"
   ]
  },
  {
   "cell_type": "code",
   "execution_count": 2,
   "id": "508fad5b1b49b6b5",
   "metadata": {
    "ExecuteTime": {
     "end_time": "2024-06-11T00:44:30.650729Z",
     "start_time": "2024-06-11T00:44:29.356277Z"
    },
    "collapsed": false,
    "jupyter": {
     "outputs_hidden": false
    }
   },
   "outputs": [],
   "source": [
    "df = pd.read_feather(\"../Data Files/MenuItem.feather\")"
   ]
  },
  {
   "cell_type": "markdown",
   "id": "29d22fc4-4cbb-4588-93d4-956d545033bc",
   "metadata": {},
   "source": [
    "## Description\n",
    "\n",
    "Each entry is an item (such as a dish) sold through the menu, including the price and when that dish was recorded or modified in the database\n",
    "\n",
    "* There are 1332726 records across 9 columns"
   ]
  },
  {
   "cell_type": "code",
   "execution_count": 7,
   "id": "ab698fecb84fbfc7",
   "metadata": {
    "ExecuteTime": {
     "end_time": "2024-06-11T00:44:30.658714Z",
     "start_time": "2024-06-11T00:44:30.654970Z"
    },
    "collapsed": false,
    "jupyter": {
     "outputs_hidden": false
    }
   },
   "outputs": [
    {
     "data": {
      "text/plain": [
       "(1332726, 9)"
      ]
     },
     "execution_count": 7,
     "metadata": {},
     "output_type": "execute_result"
    }
   ],
   "source": [
    "df.shape"
   ]
  },
  {
   "cell_type": "code",
   "execution_count": 8,
   "id": "77f4bd23879e9380",
   "metadata": {
    "ExecuteTime": {
     "end_time": "2024-06-11T00:44:30.670806Z",
     "start_time": "2024-06-11T00:44:30.663723Z"
    },
    "collapsed": false,
    "jupyter": {
     "outputs_hidden": false
    }
   },
   "outputs": [
    {
     "data": {
      "text/plain": [
       "id                int64\n",
       "menu_page_id      int64\n",
       "price           float64\n",
       "high_price      float64\n",
       "dish_id         float64\n",
       "created_at       object\n",
       "updated_at       object\n",
       "xpos            float64\n",
       "ypos            float64\n",
       "dtype: object"
      ]
     },
     "execution_count": 8,
     "metadata": {},
     "output_type": "execute_result"
    }
   ],
   "source": [
    "df.dtypes"
   ]
  },
  {
   "cell_type": "code",
   "execution_count": 9,
   "id": "bfb8f397174d513",
   "metadata": {
    "ExecuteTime": {
     "end_time": "2024-06-11T00:44:30.706729Z",
     "start_time": "2024-06-11T00:44:30.676382Z"
    },
    "collapsed": false,
    "jupyter": {
     "outputs_hidden": false
    }
   },
   "outputs": [
    {
     "data": {
      "text/html": [
       "<div>\n",
       "<style scoped>\n",
       "    .dataframe tbody tr th:only-of-type {\n",
       "        vertical-align: middle;\n",
       "    }\n",
       "\n",
       "    .dataframe tbody tr th {\n",
       "        vertical-align: top;\n",
       "    }\n",
       "\n",
       "    .dataframe thead th {\n",
       "        text-align: right;\n",
       "    }\n",
       "</style>\n",
       "<table border=\"1\" class=\"dataframe\">\n",
       "  <thead>\n",
       "    <tr style=\"text-align: right;\">\n",
       "      <th></th>\n",
       "      <th>id</th>\n",
       "      <th>menu_page_id</th>\n",
       "      <th>price</th>\n",
       "      <th>high_price</th>\n",
       "      <th>dish_id</th>\n",
       "      <th>created_at</th>\n",
       "      <th>updated_at</th>\n",
       "      <th>xpos</th>\n",
       "      <th>ypos</th>\n",
       "    </tr>\n",
       "  </thead>\n",
       "  <tbody>\n",
       "    <tr>\n",
       "      <th>0</th>\n",
       "      <td>1</td>\n",
       "      <td>1389</td>\n",
       "      <td>0.4</td>\n",
       "      <td>NaN</td>\n",
       "      <td>1.0</td>\n",
       "      <td>2011-03-28 15:00:44 UTC</td>\n",
       "      <td>2011-04-19 04:33:15 UTC</td>\n",
       "      <td>0.111429</td>\n",
       "      <td>0.254735</td>\n",
       "    </tr>\n",
       "    <tr>\n",
       "      <th>1</th>\n",
       "      <td>2</td>\n",
       "      <td>1389</td>\n",
       "      <td>0.6</td>\n",
       "      <td>NaN</td>\n",
       "      <td>2.0</td>\n",
       "      <td>2011-03-28 15:01:13 UTC</td>\n",
       "      <td>2011-04-19 15:00:54 UTC</td>\n",
       "      <td>0.438571</td>\n",
       "      <td>0.254735</td>\n",
       "    </tr>\n",
       "    <tr>\n",
       "      <th>2</th>\n",
       "      <td>3</td>\n",
       "      <td>1389</td>\n",
       "      <td>0.4</td>\n",
       "      <td>NaN</td>\n",
       "      <td>3.0</td>\n",
       "      <td>2011-03-28 15:01:40 UTC</td>\n",
       "      <td>2011-04-19 19:10:05 UTC</td>\n",
       "      <td>0.140000</td>\n",
       "      <td>0.261922</td>\n",
       "    </tr>\n",
       "    <tr>\n",
       "      <th>3</th>\n",
       "      <td>4</td>\n",
       "      <td>1389</td>\n",
       "      <td>0.5</td>\n",
       "      <td>NaN</td>\n",
       "      <td>4.0</td>\n",
       "      <td>2011-03-28 15:01:51 UTC</td>\n",
       "      <td>2011-04-19 19:07:01 UTC</td>\n",
       "      <td>0.377143</td>\n",
       "      <td>0.262720</td>\n",
       "    </tr>\n",
       "    <tr>\n",
       "      <th>4</th>\n",
       "      <td>5</td>\n",
       "      <td>3079</td>\n",
       "      <td>0.5</td>\n",
       "      <td>1.0</td>\n",
       "      <td>5.0</td>\n",
       "      <td>2011-03-28 15:21:26 UTC</td>\n",
       "      <td>2011-04-13 15:25:27 UTC</td>\n",
       "      <td>0.105714</td>\n",
       "      <td>0.313178</td>\n",
       "    </tr>\n",
       "  </tbody>\n",
       "</table>\n",
       "</div>"
      ],
      "text/plain": [
       "   id  menu_page_id  price  high_price  dish_id               created_at  \\\n",
       "0   1          1389    0.4         NaN      1.0  2011-03-28 15:00:44 UTC   \n",
       "1   2          1389    0.6         NaN      2.0  2011-03-28 15:01:13 UTC   \n",
       "2   3          1389    0.4         NaN      3.0  2011-03-28 15:01:40 UTC   \n",
       "3   4          1389    0.5         NaN      4.0  2011-03-28 15:01:51 UTC   \n",
       "4   5          3079    0.5         1.0      5.0  2011-03-28 15:21:26 UTC   \n",
       "\n",
       "                updated_at      xpos      ypos  \n",
       "0  2011-04-19 04:33:15 UTC  0.111429  0.254735  \n",
       "1  2011-04-19 15:00:54 UTC  0.438571  0.254735  \n",
       "2  2011-04-19 19:10:05 UTC  0.140000  0.261922  \n",
       "3  2011-04-19 19:07:01 UTC  0.377143  0.262720  \n",
       "4  2011-04-13 15:25:27 UTC  0.105714  0.313178  "
      ]
     },
     "execution_count": 9,
     "metadata": {},
     "output_type": "execute_result"
    }
   ],
   "source": [
    "df.head(5)"
   ]
  },
  {
   "cell_type": "code",
   "execution_count": 10,
   "id": "28c695fc3cc57987",
   "metadata": {
    "ExecuteTime": {
     "end_time": "2024-06-11T00:44:33.256208Z",
     "start_time": "2024-06-11T00:44:30.680555Z"
    },
    "collapsed": false,
    "jupyter": {
     "outputs_hidden": false
    }
   },
   "outputs": [
    {
     "data": {
      "text/html": [
       "<div>\n",
       "<style scoped>\n",
       "    .dataframe tbody tr th:only-of-type {\n",
       "        vertical-align: middle;\n",
       "    }\n",
       "\n",
       "    .dataframe tbody tr th {\n",
       "        vertical-align: top;\n",
       "    }\n",
       "\n",
       "    .dataframe thead th {\n",
       "        text-align: right;\n",
       "    }\n",
       "</style>\n",
       "<table border=\"1\" class=\"dataframe\">\n",
       "  <thead>\n",
       "    <tr style=\"text-align: right;\">\n",
       "      <th></th>\n",
       "      <th>id</th>\n",
       "      <th>menu_page_id</th>\n",
       "      <th>price</th>\n",
       "      <th>high_price</th>\n",
       "      <th>dish_id</th>\n",
       "      <th>created_at</th>\n",
       "      <th>updated_at</th>\n",
       "      <th>xpos</th>\n",
       "      <th>ypos</th>\n",
       "    </tr>\n",
       "  </thead>\n",
       "  <tbody>\n",
       "    <tr>\n",
       "      <th>count</th>\n",
       "      <td>1.332726e+06</td>\n",
       "      <td>1.332726e+06</td>\n",
       "      <td>886810.000000</td>\n",
       "      <td>91905.000000</td>\n",
       "      <td>1.332485e+06</td>\n",
       "      <td>1332726</td>\n",
       "      <td>1332726</td>\n",
       "      <td>1.332726e+06</td>\n",
       "      <td>1.332726e+06</td>\n",
       "    </tr>\n",
       "    <tr>\n",
       "      <th>unique</th>\n",
       "      <td>NaN</td>\n",
       "      <td>NaN</td>\n",
       "      <td>NaN</td>\n",
       "      <td>NaN</td>\n",
       "      <td>NaN</td>\n",
       "      <td>1291090</td>\n",
       "      <td>1295796</td>\n",
       "      <td>NaN</td>\n",
       "      <td>NaN</td>\n",
       "    </tr>\n",
       "    <tr>\n",
       "      <th>top</th>\n",
       "      <td>NaN</td>\n",
       "      <td>NaN</td>\n",
       "      <td>NaN</td>\n",
       "      <td>NaN</td>\n",
       "      <td>NaN</td>\n",
       "      <td>2011-04-29 02:04:21 UTC</td>\n",
       "      <td>2011-04-29 02:04:21 UTC</td>\n",
       "      <td>NaN</td>\n",
       "      <td>NaN</td>\n",
       "    </tr>\n",
       "    <tr>\n",
       "      <th>freq</th>\n",
       "      <td>NaN</td>\n",
       "      <td>NaN</td>\n",
       "      <td>NaN</td>\n",
       "      <td>NaN</td>\n",
       "      <td>NaN</td>\n",
       "      <td>6</td>\n",
       "      <td>6</td>\n",
       "      <td>NaN</td>\n",
       "      <td>NaN</td>\n",
       "    </tr>\n",
       "    <tr>\n",
       "      <th>mean</th>\n",
       "      <td>6.978984e+05</td>\n",
       "      <td>4.759487e+04</td>\n",
       "      <td>12.838627</td>\n",
       "      <td>8.106321</td>\n",
       "      <td>1.580110e+05</td>\n",
       "      <td>NaN</td>\n",
       "      <td>NaN</td>\n",
       "      <td>3.890132e-01</td>\n",
       "      <td>5.497062e-01</td>\n",
       "    </tr>\n",
       "    <tr>\n",
       "      <th>std</th>\n",
       "      <td>3.999807e+05</td>\n",
       "      <td>2.203921e+04</td>\n",
       "      <td>499.547387</td>\n",
       "      <td>90.095222</td>\n",
       "      <td>1.677620e+05</td>\n",
       "      <td>NaN</td>\n",
       "      <td>NaN</td>\n",
       "      <td>2.208378e-01</td>\n",
       "      <td>2.239532e-01</td>\n",
       "    </tr>\n",
       "    <tr>\n",
       "      <th>min</th>\n",
       "      <td>1.000000e+00</td>\n",
       "      <td>1.300000e+02</td>\n",
       "      <td>0.000000</td>\n",
       "      <td>0.000000</td>\n",
       "      <td>1.000000e+00</td>\n",
       "      <td>NaN</td>\n",
       "      <td>NaN</td>\n",
       "      <td>0.000000e+00</td>\n",
       "      <td>0.000000e+00</td>\n",
       "    </tr>\n",
       "    <tr>\n",
       "      <th>25%</th>\n",
       "      <td>3.502512e+05</td>\n",
       "      <td>3.204900e+04</td>\n",
       "      <td>0.250000</td>\n",
       "      <td>0.500000</td>\n",
       "      <td>5.089000e+03</td>\n",
       "      <td>NaN</td>\n",
       "      <td>NaN</td>\n",
       "      <td>1.842860e-01</td>\n",
       "      <td>3.669165e-01</td>\n",
       "    </tr>\n",
       "    <tr>\n",
       "      <th>50%</th>\n",
       "      <td>7.024105e+05</td>\n",
       "      <td>5.337100e+04</td>\n",
       "      <td>0.400000</td>\n",
       "      <td>1.250000</td>\n",
       "      <td>8.070000e+04</td>\n",
       "      <td>NaN</td>\n",
       "      <td>NaN</td>\n",
       "      <td>3.771430e-01</td>\n",
       "      <td>5.672940e-01</td>\n",
       "    </tr>\n",
       "    <tr>\n",
       "      <th>75%</th>\n",
       "      <td>1.045549e+06</td>\n",
       "      <td>6.682300e+04</td>\n",
       "      <td>1.000000</td>\n",
       "      <td>3.000000</td>\n",
       "      <td>3.325240e+05</td>\n",
       "      <td>NaN</td>\n",
       "      <td>NaN</td>\n",
       "      <td>5.653330e-01</td>\n",
       "      <td>7.385308e-01</td>\n",
       "    </tr>\n",
       "    <tr>\n",
       "      <th>max</th>\n",
       "      <td>1.385906e+06</td>\n",
       "      <td>7.742500e+04</td>\n",
       "      <td>180000.000000</td>\n",
       "      <td>7800.000000</td>\n",
       "      <td>5.156770e+05</td>\n",
       "      <td>NaN</td>\n",
       "      <td>NaN</td>\n",
       "      <td>9.853330e-01</td>\n",
       "      <td>9.982300e-01</td>\n",
       "    </tr>\n",
       "  </tbody>\n",
       "</table>\n",
       "</div>"
      ],
      "text/plain": [
       "                  id  menu_page_id          price    high_price       dish_id  \\\n",
       "count   1.332726e+06  1.332726e+06  886810.000000  91905.000000  1.332485e+06   \n",
       "unique           NaN           NaN            NaN           NaN           NaN   \n",
       "top              NaN           NaN            NaN           NaN           NaN   \n",
       "freq             NaN           NaN            NaN           NaN           NaN   \n",
       "mean    6.978984e+05  4.759487e+04      12.838627      8.106321  1.580110e+05   \n",
       "std     3.999807e+05  2.203921e+04     499.547387     90.095222  1.677620e+05   \n",
       "min     1.000000e+00  1.300000e+02       0.000000      0.000000  1.000000e+00   \n",
       "25%     3.502512e+05  3.204900e+04       0.250000      0.500000  5.089000e+03   \n",
       "50%     7.024105e+05  5.337100e+04       0.400000      1.250000  8.070000e+04   \n",
       "75%     1.045549e+06  6.682300e+04       1.000000      3.000000  3.325240e+05   \n",
       "max     1.385906e+06  7.742500e+04  180000.000000   7800.000000  5.156770e+05   \n",
       "\n",
       "                     created_at               updated_at          xpos  \\\n",
       "count                   1332726                  1332726  1.332726e+06   \n",
       "unique                  1291090                  1295796           NaN   \n",
       "top     2011-04-29 02:04:21 UTC  2011-04-29 02:04:21 UTC           NaN   \n",
       "freq                          6                        6           NaN   \n",
       "mean                        NaN                      NaN  3.890132e-01   \n",
       "std                         NaN                      NaN  2.208378e-01   \n",
       "min                         NaN                      NaN  0.000000e+00   \n",
       "25%                         NaN                      NaN  1.842860e-01   \n",
       "50%                         NaN                      NaN  3.771430e-01   \n",
       "75%                         NaN                      NaN  5.653330e-01   \n",
       "max                         NaN                      NaN  9.853330e-01   \n",
       "\n",
       "                ypos  \n",
       "count   1.332726e+06  \n",
       "unique           NaN  \n",
       "top              NaN  \n",
       "freq             NaN  \n",
       "mean    5.497062e-01  \n",
       "std     2.239532e-01  \n",
       "min     0.000000e+00  \n",
       "25%     3.669165e-01  \n",
       "50%     5.672940e-01  \n",
       "75%     7.385308e-01  \n",
       "max     9.982300e-01  "
      ]
     },
     "execution_count": 10,
     "metadata": {},
     "output_type": "execute_result"
    }
   ],
   "source": [
    "df.describe(include=\"all\")"
   ]
  },
  {
   "cell_type": "markdown",
   "id": "9fdedb8a-3fe8-44da-acbb-95bca4c971d5",
   "metadata": {},
   "source": [
    "## Missing Values - Section 3.1\n",
    "\n",
    "* `price` column is missing 33% of data\n",
    "* `high_price` column is missing 93% of data"
   ]
  },
  {
   "cell_type": "code",
   "execution_count": 11,
   "id": "548425cd87b21a64",
   "metadata": {
    "ExecuteTime": {
     "end_time": "2024-06-11T00:44:33.365699Z",
     "start_time": "2024-06-11T00:44:33.257484Z"
    },
    "collapsed": false,
    "jupyter": {
     "outputs_hidden": false
    }
   },
   "outputs": [
    {
     "data": {
      "text/plain": [
       "id               0.000000\n",
       "menu_page_id     0.000000\n",
       "price           33.458941\n",
       "high_price      93.103984\n",
       "dish_id          0.018083\n",
       "created_at       0.000000\n",
       "updated_at       0.000000\n",
       "xpos             0.000000\n",
       "ypos             0.000000\n",
       "Name: Percentage of Missing Values, dtype: float64"
      ]
     },
     "execution_count": 11,
     "metadata": {},
     "output_type": "execute_result"
    }
   ],
   "source": [
    "missing_percentage = (df.isnull().sum() / len(df)) * 100\n",
    "missing_percentage.name = 'Percentage of Missing Values'\n",
    "missing_percentage"
   ]
  },
  {
   "cell_type": "code",
   "execution_count": 12,
   "id": "77bcfe4c0966d563",
   "metadata": {
    "ExecuteTime": {
     "end_time": "2024-06-11T00:44:33.580585Z",
     "start_time": "2024-06-11T00:44:33.420621Z"
    },
    "collapsed": false,
    "jupyter": {
     "outputs_hidden": false
    }
   },
   "outputs": [
    {
     "data": {
      "image/png": "[encoded data removed]",
      "text/plain": [
       "<Figure size 1000x600 with 1 Axes>"
      ]
     },
     "metadata": {},
     "output_type": "display_data"
    }
   ],
   "source": [
    "non_missing_percentage = 100 - missing_percentage\n",
    "missing_data_percentage = pd.DataFrame({'Missing': missing_percentage, 'Non-Missing': non_missing_percentage})\n",
    "missing_data_percentage.plot(kind='bar', stacked=True, figsize=(10, 6))\n",
    "plt.title('Missing vs. Non-Missing Values (Percentage)')\n",
    "plt.xlabel('Columns')\n",
    "plt.ylabel('Percentage')\n",
    "plt.xticks(rotation=45)\n",
    "plt.show()"
   ]
  },
  {
   "cell_type": "markdown",
   "id": "490ccba3-6e7d-4869-bdb7-c08c6059b3b5",
   "metadata": {},
   "source": [
    "## Foreign Key Violations - Section 3.2\n",
    "\n",
    "* `menu_page_id` has numerous values that do not exist in the **MenuPage** table. This is a foreign key violation"
   ]
  },
  {
   "cell_type": "code",
   "execution_count": 13,
   "id": "133667c4d1d0055c",
   "metadata": {
    "ExecuteTime": {
     "end_time": "2024-06-11T00:44:33.580893Z",
     "start_time": "2024-06-11T00:44:33.537837Z"
    },
    "collapsed": false,
    "jupyter": {
     "outputs_hidden": false
    }
   },
   "outputs": [],
   "source": [
    "df_page = pd.read_feather(\"../Data Files/MenuPage.feather\")"
   ]
  },
  {
   "cell_type": "code",
   "execution_count": 14,
   "id": "c9d45f36-400a-4531-b713-f8fcb0bcf9f3",
   "metadata": {},
   "outputs": [
    {
     "data": {
      "text/plain": [
       "id               int64\n",
       "menu_id          int64\n",
       "page_number    float64\n",
       "image_id        object\n",
       "full_height    float64\n",
       "full_width     float64\n",
       "uuid            object\n",
       "dtype: object"
      ]
     },
     "execution_count": 14,
     "metadata": {},
     "output_type": "execute_result"
    }
   ],
   "source": [
    "df_page.dtypes"
   ]
  },
  {
   "cell_type": "code",
   "execution_count": 15,
   "id": "b2c309b3-b1df-4fee-b55e-4faf73443dcb",
   "metadata": {},
   "outputs": [
    {
     "name": "stdout",
     "output_type": "stream",
     "text": [
      "No foreign key violations found.\n"
     ]
    }
   ],
   "source": [
    "\n",
    "menupage_ids = df_page['id'].unique()\n",
    "\n",
    "menuitem_page_ids = df['menu_page_id'].unique()\n",
    "\n",
    "foreign_key_violations = [id for id in menuitem_page_ids if id not in menupage_ids]\n",
    "\n",
    "if foreign_key_violations:\n",
    "    print(\"Foreign key violations found:\", foreign_key_violations)\n",
    "else:\n",
    "    print(\"No foreign key violations found.\")"
   ]
  },
  {
   "cell_type": "code",
   "execution_count": null,
   "id": "01fa2590-5025-4c1d-aec6-ffbdf806bbe4",
   "metadata": {},
   "outputs": [],
   "source": []
  }
 ],
 "metadata": {
  "kernelspec": {
   "display_name": "Python 3 (ipykernel)",
   "language": "python",
   "name": "python3"
  },
  "language_info": {
   "codemirror_mode": {
    "name": "ipython",
    "version": 3
   },
   "file_extension": ".py",
   "mimetype": "text/x-python",
   "name": "python",
   "nbconvert_exporter": "python",
   "pygments_lexer": "ipython3",
   "version": "3.12.4"
  }
 },
 "nbformat": 4,
 "nbformat_minor": 5
}
